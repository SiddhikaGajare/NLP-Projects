{
 "cells": [
  {
   "cell_type": "markdown",
   "id": "9670ce73",
   "metadata": {},
   "source": [
    "# Trip Advisor Reviews\n",
    "\n",
    "<h3>Context</h3>\n",
    "This data set is scrapped from Trip Advisor for restaurants in Mumbai India. The data set took 1 day to scrape and contains 2996 rows and 13 columns. This does not contain all the restaurants in Mumbai but contains restaurants till 3.5 rating level. There are some restaurants that are duplicated by name but the address is different so these are different restaurants but belong to the same chain.\n",
    "\n",
    "<h3>Acknowledgements</h3>\n",
    "Thanks to Trip Advisor for having the dataset available to scrape.\n",
    "\n",
    "<h3>Inspiration</h3>\n",
    "This is a simple data set where you can clean the data, check for correlation, top rated restaurants, and much more. Feel free to go through the data set and please let me know if you like dataset like these as it will encourage me to scrape more such data."
   ]
  },
  {
   "cell_type": "code",
   "execution_count": 1,
   "id": "777d5eaf",
   "metadata": {},
   "outputs": [
    {
     "data": {
      "text/html": [
       "<div>\n",
       "<style scoped>\n",
       "    .dataframe tbody tr th:only-of-type {\n",
       "        vertical-align: middle;\n",
       "    }\n",
       "\n",
       "    .dataframe tbody tr th {\n",
       "        vertical-align: top;\n",
       "    }\n",
       "\n",
       "    .dataframe thead th {\n",
       "        text-align: right;\n",
       "    }\n",
       "</style>\n",
       "<table border=\"1\" class=\"dataframe\">\n",
       "  <thead>\n",
       "    <tr style=\"text-align: right;\">\n",
       "      <th></th>\n",
       "      <th>Review</th>\n",
       "      <th>Rating</th>\n",
       "    </tr>\n",
       "  </thead>\n",
       "  <tbody>\n",
       "    <tr>\n",
       "      <th>0</th>\n",
       "      <td>nice hotel expensive parking got good deal sta...</td>\n",
       "      <td>4</td>\n",
       "    </tr>\n",
       "    <tr>\n",
       "      <th>1</th>\n",
       "      <td>ok nothing special charge diamond member hilto...</td>\n",
       "      <td>2</td>\n",
       "    </tr>\n",
       "    <tr>\n",
       "      <th>2</th>\n",
       "      <td>nice rooms not 4* experience hotel monaco seat...</td>\n",
       "      <td>3</td>\n",
       "    </tr>\n",
       "    <tr>\n",
       "      <th>3</th>\n",
       "      <td>unique, great stay, wonderful time hotel monac...</td>\n",
       "      <td>5</td>\n",
       "    </tr>\n",
       "    <tr>\n",
       "      <th>4</th>\n",
       "      <td>great stay great stay, went seahawk game aweso...</td>\n",
       "      <td>5</td>\n",
       "    </tr>\n",
       "  </tbody>\n",
       "</table>\n",
       "</div>"
      ],
      "text/plain": [
       "                                              Review  Rating\n",
       "0  nice hotel expensive parking got good deal sta...       4\n",
       "1  ok nothing special charge diamond member hilto...       2\n",
       "2  nice rooms not 4* experience hotel monaco seat...       3\n",
       "3  unique, great stay, wonderful time hotel monac...       5\n",
       "4  great stay great stay, went seahawk game aweso...       5"
      ]
     },
     "execution_count": 1,
     "metadata": {},
     "output_type": "execute_result"
    }
   ],
   "source": [
    "import pandas as pd\n",
    "import pickle\n",
    "import nltk\n",
    "\n",
    "tp = pd.read_csv('Trip_advisor_review.csv')\n",
    "tp.head()"
   ]
  },
  {
   "cell_type": "code",
   "execution_count": 33,
   "id": "ec6810a4",
   "metadata": {},
   "outputs": [
    {
     "data": {
      "text/plain": [
       "(20491, 2)"
      ]
     },
     "execution_count": 33,
     "metadata": {},
     "output_type": "execute_result"
    }
   ],
   "source": [
    "tp.shape"
   ]
  },
  {
   "cell_type": "code",
   "execution_count": 34,
   "id": "6b0c1dce",
   "metadata": {},
   "outputs": [
    {
     "data": {
      "text/plain": [
       "Review    0\n",
       "Rating    0\n",
       "dtype: int64"
      ]
     },
     "execution_count": 34,
     "metadata": {},
     "output_type": "execute_result"
    }
   ],
   "source": [
    "tp.isnull().sum()"
   ]
  },
  {
   "cell_type": "code",
   "execution_count": 35,
   "id": "56f31352",
   "metadata": {},
   "outputs": [
    {
     "data": {
      "text/plain": [
       "5    9054\n",
       "4    6039\n",
       "3    2184\n",
       "2    1793\n",
       "1    1421\n",
       "Name: Rating, dtype: int64"
      ]
     },
     "execution_count": 35,
     "metadata": {},
     "output_type": "execute_result"
    }
   ],
   "source": [
    "tp.Rating.value_counts()"
   ]
  },
  {
   "cell_type": "code",
   "execution_count": 36,
   "id": "31ea7c70",
   "metadata": {},
   "outputs": [
    {
     "data": {
      "text/plain": [
       "2     nice rooms not 4* experience hotel monaco seat...\n",
       "13    nice hotel not nice staff hotel lovely staff q...\n",
       "19    hmmmmm say really high hopes hotel monaco chos...\n",
       "25    n't mind noise place great, read reviews noise...\n",
       "27    met expectations centrally located hotel block...\n",
       "46    pay read reviews booked knew getting, mind n't...\n",
       "47    not bad location unmatchable price range, simp...\n",
       "54    expensive, not biz travellers, simple fact hot...\n",
       "56    okay not amazing husband stayed weekend night,...\n",
       "67    ace not place husband stayed ace hotel seattle...\n",
       "Name: Review, dtype: object"
      ]
     },
     "execution_count": 36,
     "metadata": {},
     "output_type": "execute_result"
    }
   ],
   "source": [
    "# Let's have a look at what the Reviews for Rating 3 read\n",
    "\n",
    "tp.Review[tp.Rating == 3].head(10)"
   ]
  },
  {
   "cell_type": "code",
   "execution_count": 37,
   "id": "77fb868f",
   "metadata": {},
   "outputs": [],
   "source": [
    "tp.loc[tp.Rating <= 3, 'Rating'] = 0 # 'Bad Rating'\n",
    "tp.loc[tp.Rating >= 4, 'Rating'] = 1 # 'Good Rating'"
   ]
  },
  {
   "cell_type": "code",
   "execution_count": 38,
   "id": "b7f57790",
   "metadata": {},
   "outputs": [
    {
     "data": {
      "text/plain": [
       "1    15093\n",
       "0     5398\n",
       "Name: Rating, dtype: int64"
      ]
     },
     "execution_count": 38,
     "metadata": {},
     "output_type": "execute_result"
    }
   ],
   "source": [
    "# After Categorizing data into Good and Bad we see Problem of class imbalance\n",
    "\n",
    "tp.Rating.value_counts()"
   ]
  },
  {
   "cell_type": "code",
   "execution_count": 2,
   "id": "1475f8f9",
   "metadata": {},
   "outputs": [],
   "source": [
    "from nltk.corpus import stopwords\n",
    "import string\n",
    "from nltk.stem.snowball import SnowballStemmer # stemming\n",
    "\n",
    "stemmer = SnowballStemmer(language='english')\n",
    "string.punctuation\n",
    "nltk.download('stopwords')\n",
    "stopwords.words('english')"
   ]
  },
  {
   "cell_type": "code",
   "execution_count": 56,
   "id": "db42ebf3",
   "metadata": {},
   "outputs": [],
   "source": [
    "def text_process(mess):            ### creating a function\n",
    "    \"\"\"                                                        ## a docstring\n",
    "    1. remove the punctuation\n",
    "    2. remove the stopwords\n",
    "    3. return the list of clean textwords\n",
    "    \n",
    "    \"\"\"\n",
    "    nopunc = [char for char in mess if char  not   in string.punctuation]\n",
    "    nopunc = \"\".join(nopunc)\n",
    "    \n",
    "    st_word = [ word for word in nopunc.split() if word not in stopwords.words(\"english\")]\n",
    "    \n",
    "    stem_word = []\n",
    "    \n",
    "    for word in range(0, len(st_word)):\n",
    "        print(st_word[word])\n",
    "        stem_word.append(stemmer.stem(st_word[word]))\n",
    "        \n",
    "    return stem_word\n"
   ]
  },
  {
   "cell_type": "code",
   "execution_count": 3,
   "id": "1b50cc50",
   "metadata": {},
   "outputs": [],
   "source": [
    "# Word2Vec Implementation using CountVectorizer Method to create Words into a sparse matrics \n",
    "\n",
    "from sklearn.feature_extraction.text import CountVectorizer\n",
    "\n",
    "bow_transformer = CountVectorizer(analyzer = text_process).fit(tp[\"Review\"])"
   ]
  },
  {
   "cell_type": "code",
   "execution_count": 4,
   "id": "e31fcd65",
   "metadata": {},
   "outputs": [],
   "source": [
    "review_bow = bow_transformer.transform(tp['Review'])"
   ]
  },
  {
   "cell_type": "code",
   "execution_count": 59,
   "id": "5cd34c24",
   "metadata": {},
   "outputs": [],
   "source": [
    "from sklearn.model_selection import train_test_split\n",
    "\n",
    "x_train, x_test, y_train, y_test = train_test_split(review_bow, tp.Rating)"
   ]
  },
  {
   "cell_type": "code",
   "execution_count": 60,
   "id": "a99236b3",
   "metadata": {},
   "outputs": [
    {
     "name": "stdout",
     "output_type": "stream",
     "text": [
      "(15368, 67355)\n",
      "(15368,)\n"
     ]
    }
   ],
   "source": [
    "print(x_train.shape)\n",
    "print(y_train.shape)"
   ]
  },
  {
   "cell_type": "code",
   "execution_count": 61,
   "id": "309a234f",
   "metadata": {},
   "outputs": [
    {
     "name": "stdout",
     "output_type": "stream",
     "text": [
      "(5123, 67355)\n",
      "(5123,)\n"
     ]
    }
   ],
   "source": [
    "print(x_test.shape)\n",
    "print(y_test.shape)"
   ]
  },
  {
   "cell_type": "code",
   "execution_count": 62,
   "id": "43da45ae",
   "metadata": {},
   "outputs": [],
   "source": [
    "from sklearn.naive_bayes import MultinomialNB\n",
    "\n",
    "nb_spam = MultinomialNB()"
   ]
  },
  {
   "cell_type": "code",
   "execution_count": 63,
   "id": "ece44753",
   "metadata": {},
   "outputs": [
    {
     "data": {
      "text/plain": [
       "MultinomialNB()"
      ]
     },
     "execution_count": 63,
     "metadata": {},
     "output_type": "execute_result"
    }
   ],
   "source": [
    "nb_spam.fit(x_train, y_train)"
   ]
  },
  {
   "cell_type": "code",
   "execution_count": 64,
   "id": "3ec6a668",
   "metadata": {},
   "outputs": [],
   "source": [
    "pred_nb = nb_spam.predict(x_test)"
   ]
  },
  {
   "cell_type": "code",
   "execution_count": 71,
   "id": "985ec468",
   "metadata": {},
   "outputs": [
    {
     "name": "stdout",
     "output_type": "stream",
     "text": [
      "[[ 905  481]\n",
      " [ 166 3571]]\n",
      "              precision    recall  f1-score   support\n",
      "\n",
      "           0       0.85      0.65      0.74      1386\n",
      "           1       0.88      0.96      0.92      3737\n",
      "\n",
      "    accuracy                           0.87      5123\n",
      "   macro avg       0.86      0.80      0.83      5123\n",
      "weighted avg       0.87      0.87      0.87      5123\n",
      "\n"
     ]
    }
   ],
   "source": [
    "from sklearn.metrics import confusion_matrix, accuracy_score, classification_report\n",
    "\n",
    "tab1 = confusion_matrix(y_test, pred_nb)\n",
    "print(tab1)\n",
    "\n",
    "cl = classification_report(y_test, pred_nb)\n",
    "print(cl)"
   ]
  },
  {
   "cell_type": "markdown",
   "id": "335e8a0c",
   "metadata": {},
   "source": [
    "# Random Forest Classifier"
   ]
  },
  {
   "cell_type": "code",
   "execution_count": 75,
   "id": "1de2d8b1",
   "metadata": {},
   "outputs": [
    {
     "data": {
      "text/plain": [
       "RandomForestClassifier(class_weight='balanced')"
      ]
     },
     "execution_count": 75,
     "metadata": {},
     "output_type": "execute_result"
    }
   ],
   "source": [
    "from sklearn.ensemble import RandomForestClassifier\n",
    "\n",
    "rf = RandomForestClassifier(class_weight='balanced')\n",
    "\n",
    "rf.fit(x_train, y_train)"
   ]
  },
  {
   "cell_type": "code",
   "execution_count": 76,
   "id": "93e8dbe2",
   "metadata": {},
   "outputs": [],
   "source": [
    "rf_pred = rf.predict(x_test)"
   ]
  },
  {
   "cell_type": "code",
   "execution_count": 77,
   "id": "76bb8dd9",
   "metadata": {
    "scrolled": true
   },
   "outputs": [
    {
     "name": "stdout",
     "output_type": "stream",
     "text": [
      "[[ 504  882]\n",
      " [  15 3722]]\n",
      "              precision    recall  f1-score   support\n",
      "\n",
      "           0       0.97      0.36      0.53      1386\n",
      "           1       0.81      1.00      0.89      3737\n",
      "\n",
      "    accuracy                           0.82      5123\n",
      "   macro avg       0.89      0.68      0.71      5123\n",
      "weighted avg       0.85      0.82      0.79      5123\n",
      "\n"
     ]
    }
   ],
   "source": [
    "tab_rf = confusion_matrix(y_test, rf_pred)\n",
    "print(tab_rf)\n",
    "\n",
    "cl_rf = classification_report(y_test, rf_pred)\n",
    "print(cl_rf)"
   ]
  }
 ],
 "metadata": {
  "kernelspec": {
   "display_name": "Python 3 (ipykernel)",
   "language": "python",
   "name": "python3"
  },
  "language_info": {
   "codemirror_mode": {
    "name": "ipython",
    "version": 3
   },
   "file_extension": ".py",
   "mimetype": "text/x-python",
   "name": "python",
   "nbconvert_exporter": "python",
   "pygments_lexer": "ipython3",
   "version": "3.9.7"
  }
 },
 "nbformat": 4,
 "nbformat_minor": 5
}
